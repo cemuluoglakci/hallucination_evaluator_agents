{
 "cells": [
  {
   "cell_type": "markdown",
   "metadata": {},
   "source": [
    "#### Setting up environment"
   ]
  },
  {
   "cell_type": "code",
   "execution_count": 1,
   "metadata": {},
   "outputs": [
    {
     "name": "stdout",
     "output_type": "stream",
     "text": [
      "Collecting datasets\n",
      "  Using cached datasets-2.18.0-py3-none-any.whl.metadata (20 kB)\n",
      "Collecting filelock (from datasets)\n",
      "  Downloading filelock-3.13.3-py3-none-any.whl.metadata (2.8 kB)\n",
      "Collecting numpy>=1.17 (from datasets)\n",
      "  Downloading numpy-1.26.4-cp311-cp311-win_amd64.whl.metadata (61 kB)\n",
      "     ---------------------------------------- 0.0/61.0 kB ? eta -:--:--\n",
      "     -------------------- ------------------- 30.7/61.0 kB 1.3 MB/s eta 0:00:01\n",
      "     ---------------------------------------- 61.0/61.0 kB 1.1 MB/s eta 0:00:00\n",
      "Collecting pyarrow>=12.0.0 (from datasets)\n",
      "  Using cached pyarrow-15.0.2-cp311-cp311-win_amd64.whl.metadata (3.1 kB)\n",
      "Collecting pyarrow-hotfix (from datasets)\n",
      "  Using cached pyarrow_hotfix-0.6-py3-none-any.whl.metadata (3.6 kB)\n",
      "Collecting dill<0.3.9,>=0.3.0 (from datasets)\n",
      "  Using cached dill-0.3.8-py3-none-any.whl.metadata (10 kB)\n",
      "Collecting pandas (from datasets)\n",
      "  Downloading pandas-2.2.1-cp311-cp311-win_amd64.whl.metadata (19 kB)\n",
      "Collecting requests>=2.19.0 (from datasets)\n",
      "  Using cached requests-2.31.0-py3-none-any.whl.metadata (4.6 kB)\n",
      "Collecting tqdm>=4.62.1 (from datasets)\n",
      "  Downloading tqdm-4.66.2-py3-none-any.whl.metadata (57 kB)\n",
      "     ---------------------------------------- 0.0/57.6 kB ? eta -:--:--\n",
      "     ---------------------------------------- 57.6/57.6 kB 3.0 MB/s eta 0:00:00\n",
      "Collecting xxhash (from datasets)\n",
      "  Using cached xxhash-3.4.1-cp311-cp311-win_amd64.whl.metadata (12 kB)\n",
      "Collecting multiprocess (from datasets)\n",
      "  Using cached multiprocess-0.70.16-py311-none-any.whl.metadata (7.2 kB)\n",
      "Collecting fsspec<=2024.2.0,>=2023.1.0 (from fsspec[http]<=2024.2.0,>=2023.1.0->datasets)\n",
      "  Using cached fsspec-2024.2.0-py3-none-any.whl.metadata (6.8 kB)\n",
      "Collecting aiohttp (from datasets)\n",
      "  Downloading aiohttp-3.9.3-cp311-cp311-win_amd64.whl.metadata (7.6 kB)\n",
      "Collecting huggingface-hub>=0.19.4 (from datasets)\n",
      "  Using cached huggingface_hub-0.22.2-py3-none-any.whl.metadata (12 kB)\n",
      "Requirement already satisfied: packaging in .\\.venv\\lib\\site-packages (from datasets) (24.0)\n",
      "Collecting pyyaml>=5.1 (from datasets)\n",
      "  Downloading PyYAML-6.0.1-cp311-cp311-win_amd64.whl.metadata (2.1 kB)\n",
      "Collecting aiosignal>=1.1.2 (from aiohttp->datasets)\n",
      "  Using cached aiosignal-1.3.1-py3-none-any.whl.metadata (4.0 kB)\n",
      "Collecting attrs>=17.3.0 (from aiohttp->datasets)\n",
      "  Downloading attrs-23.2.0-py3-none-any.whl.metadata (9.5 kB)\n",
      "Collecting frozenlist>=1.1.1 (from aiohttp->datasets)\n",
      "  Downloading frozenlist-1.4.1-cp311-cp311-win_amd64.whl.metadata (12 kB)\n",
      "Collecting multidict<7.0,>=4.5 (from aiohttp->datasets)\n",
      "  Downloading multidict-6.0.5-cp311-cp311-win_amd64.whl.metadata (4.3 kB)\n",
      "Collecting yarl<2.0,>=1.0 (from aiohttp->datasets)\n",
      "  Downloading yarl-1.9.4-cp311-cp311-win_amd64.whl.metadata (32 kB)\n",
      "Requirement already satisfied: typing-extensions>=3.7.4.3 in .\\.venv\\lib\\site-packages (from huggingface-hub>=0.19.4->datasets) (4.10.0)\n",
      "Collecting charset-normalizer<4,>=2 (from requests>=2.19.0->datasets)\n",
      "  Downloading charset_normalizer-3.3.2-cp311-cp311-win_amd64.whl.metadata (34 kB)\n",
      "Collecting idna<4,>=2.5 (from requests>=2.19.0->datasets)\n",
      "  Downloading idna-3.6-py3-none-any.whl.metadata (9.9 kB)\n",
      "Collecting urllib3<3,>=1.21.1 (from requests>=2.19.0->datasets)\n",
      "  Downloading urllib3-2.2.1-py3-none-any.whl.metadata (6.4 kB)\n",
      "Collecting certifi>=2017.4.17 (from requests>=2.19.0->datasets)\n",
      "  Downloading certifi-2024.2.2-py3-none-any.whl.metadata (2.2 kB)\n",
      "Requirement already satisfied: colorama in .\\.venv\\lib\\site-packages (from tqdm>=4.62.1->datasets) (0.4.6)\n",
      "Requirement already satisfied: python-dateutil>=2.8.2 in .\\.venv\\lib\\site-packages (from pandas->datasets) (2.9.0.post0)\n",
      "Collecting pytz>=2020.1 (from pandas->datasets)\n",
      "  Downloading pytz-2024.1-py2.py3-none-any.whl.metadata (22 kB)\n",
      "Collecting tzdata>=2022.7 (from pandas->datasets)\n",
      "  Downloading tzdata-2024.1-py2.py3-none-any.whl.metadata (1.4 kB)\n",
      "Requirement already satisfied: six>=1.5 in .\\.venv\\lib\\site-packages (from python-dateutil>=2.8.2->pandas->datasets) (1.16.0)\n",
      "Using cached datasets-2.18.0-py3-none-any.whl (510 kB)\n",
      "Using cached dill-0.3.8-py3-none-any.whl (116 kB)\n",
      "Using cached fsspec-2024.2.0-py3-none-any.whl (170 kB)\n",
      "Downloading aiohttp-3.9.3-cp311-cp311-win_amd64.whl (365 kB)\n",
      "   ---------------------------------------- 0.0/365.3 kB ? eta -:--:--\n",
      "   ------------ --------------------------- 112.6/365.3 kB 6.8 MB/s eta 0:00:01\n",
      "   ------------------------- -------------- 235.5/365.3 kB 3.6 MB/s eta 0:00:01\n",
      "   ---------------------------------------- 365.3/365.3 kB 3.3 MB/s eta 0:00:00\n",
      "Using cached huggingface_hub-0.22.2-py3-none-any.whl (388 kB)\n",
      "Downloading numpy-1.26.4-cp311-cp311-win_amd64.whl (15.8 MB)\n",
      "   ---------------------------------------- 0.0/15.8 MB ? eta -:--:--\n",
      "    --------------------------------------- 0.3/15.8 MB 17.3 MB/s eta 0:00:01\n",
      "   -- ------------------------------------- 0.9/15.8 MB 11.4 MB/s eta 0:00:02\n",
      "   ---- ----------------------------------- 1.8/15.8 MB 14.1 MB/s eta 0:00:01\n",
      "   ------ --------------------------------- 2.5/15.8 MB 16.1 MB/s eta 0:00:01\n",
      "   ------ --------------------------------- 2.5/15.8 MB 16.1 MB/s eta 0:00:01\n",
      "   ------ --------------------------------- 2.5/15.8 MB 16.1 MB/s eta 0:00:01\n",
      "   ------------ --------------------------- 4.9/15.8 MB 17.5 MB/s eta 0:00:01\n",
      "   ------------------ --------------------- 7.5/15.8 MB 20.8 MB/s eta 0:00:01\n",
      "   ---------------------- ----------------- 9.0/15.8 MB 22.9 MB/s eta 0:00:01\n",
      "   -------------------------- ------------- 10.6/15.8 MB 26.2 MB/s eta 0:00:01\n",
      "   ------------------------------ --------- 12.0/15.8 MB 28.4 MB/s eta 0:00:01\n",
      "   ------------------------------- -------- 12.3/15.8 MB 28.5 MB/s eta 0:00:01\n",
      "   ----------------------------------- ---- 14.0/15.8 MB 34.4 MB/s eta 0:00:01\n",
      "   ---------------------------------------  15.7/15.8 MB 36.4 MB/s eta 0:00:01\n",
      "   ---------------------------------------- 15.8/15.8 MB 32.8 MB/s eta 0:00:00\n",
      "Using cached pyarrow-15.0.2-cp311-cp311-win_amd64.whl (24.8 MB)\n",
      "Downloading PyYAML-6.0.1-cp311-cp311-win_amd64.whl (144 kB)\n",
      "   ---------------------------------------- 0.0/144.7 kB ? eta -:--:--\n",
      "   ---------------------------------------- 144.7/144.7 kB ? eta 0:00:00\n",
      "Using cached requests-2.31.0-py3-none-any.whl (62 kB)\n",
      "Downloading tqdm-4.66.2-py3-none-any.whl (78 kB)\n",
      "   ---------------------------------------- 0.0/78.3 kB ? eta -:--:--\n",
      "   ---------------------------------------- 78.3/78.3 kB ? eta 0:00:00\n",
      "Downloading filelock-3.13.3-py3-none-any.whl (11 kB)\n",
      "Using cached multiprocess-0.70.16-py311-none-any.whl (143 kB)\n",
      "Downloading pandas-2.2.1-cp311-cp311-win_amd64.whl (11.6 MB)\n",
      "   ---------------------------------------- 0.0/11.6 MB ? eta -:--:--\n",
      "   ---- ----------------------------------- 1.4/11.6 MB 29.2 MB/s eta 0:00:01\n",
      "   -------- ------------------------------- 2.4/11.6 MB 26.2 MB/s eta 0:00:01\n",
      "   --------- ------------------------------ 2.6/11.6 MB 28.0 MB/s eta 0:00:01\n",
      "   --------------- ------------------------ 4.4/11.6 MB 23.3 MB/s eta 0:00:01\n",
      "   ------------------ --------------------- 5.3/11.6 MB 22.7 MB/s eta 0:00:01\n",
      "   --------------------- ------------------ 6.2/11.6 MB 23.5 MB/s eta 0:00:01\n",
      "   ------------------------ --------------- 7.2/11.6 MB 23.0 MB/s eta 0:00:01\n",
      "   --------------------------- ------------ 8.0/11.6 MB 22.2 MB/s eta 0:00:01\n",
      "   --------------------------- ------------ 8.0/11.6 MB 22.2 MB/s eta 0:00:01\n",
      "   --------------------------------- ------ 9.7/11.6 MB 21.5 MB/s eta 0:00:01\n",
      "   ----------------------------------- ---- 10.4/11.6 MB 21.1 MB/s eta 0:00:01\n",
      "   -------------------------------------- - 11.1/11.6 MB 19.9 MB/s eta 0:00:01\n",
      "   ---------------------------------------  11.6/11.6 MB 19.8 MB/s eta 0:00:01\n",
      "   ---------------------------------------- 11.6/11.6 MB 19.2 MB/s eta 0:00:00\n",
      "Using cached pyarrow_hotfix-0.6-py3-none-any.whl (7.9 kB)\n",
      "Using cached xxhash-3.4.1-cp311-cp311-win_amd64.whl (29 kB)\n",
      "Using cached aiosignal-1.3.1-py3-none-any.whl (7.6 kB)\n",
      "Downloading attrs-23.2.0-py3-none-any.whl (60 kB)\n",
      "   ---------------------------------------- 0.0/60.8 kB ? eta -:--:--\n",
      "   ---------------------------------------- 60.8/60.8 kB 3.4 MB/s eta 0:00:00\n",
      "Downloading certifi-2024.2.2-py3-none-any.whl (163 kB)\n",
      "   ---------------------------------------- 0.0/163.8 kB ? eta -:--:--\n",
      "   ---------------------------------------- 163.8/163.8 kB ? eta 0:00:00\n",
      "Downloading charset_normalizer-3.3.2-cp311-cp311-win_amd64.whl (99 kB)\n",
      "   ---------------------------------------- 0.0/99.9 kB ? eta -:--:--\n",
      "   ---------------------------------------- 99.9/99.9 kB ? eta 0:00:00\n",
      "Downloading frozenlist-1.4.1-cp311-cp311-win_amd64.whl (50 kB)\n",
      "   ---------------------------------------- 0.0/50.5 kB ? eta -:--:--\n",
      "   ---------------------------------------- 50.5/50.5 kB ? eta 0:00:00\n",
      "Downloading idna-3.6-py3-none-any.whl (61 kB)\n",
      "   ---------------------------------------- 0.0/61.6 kB ? eta -:--:--\n",
      "   ---------------------------------------- 61.6/61.6 kB 3.2 MB/s eta 0:00:00\n",
      "Downloading multidict-6.0.5-cp311-cp311-win_amd64.whl (28 kB)\n",
      "Downloading pytz-2024.1-py2.py3-none-any.whl (505 kB)\n",
      "   ---------------------------------------- 0.0/505.5 kB ? eta -:--:--\n",
      "   --------------------------------------- 505.5/505.5 kB 15.5 MB/s eta 0:00:00\n",
      "Downloading tzdata-2024.1-py2.py3-none-any.whl (345 kB)\n",
      "   ---------------------------------------- 0.0/345.4 kB ? eta -:--:--\n",
      "   --------------------------------------- 345.4/345.4 kB 20.9 MB/s eta 0:00:00\n",
      "Downloading urllib3-2.2.1-py3-none-any.whl (121 kB)\n",
      "   ---------------------------------------- 0.0/121.1 kB ? eta -:--:--\n",
      "   ---------------------------------------- 121.1/121.1 kB 7.4 MB/s eta 0:00:00\n",
      "Downloading yarl-1.9.4-cp311-cp311-win_amd64.whl (76 kB)\n",
      "   ---------------------------------------- 0.0/76.7 kB ? eta -:--:--\n",
      "   ---------------------------------------- 76.7/76.7 kB 4.2 MB/s eta 0:00:00\n",
      "Installing collected packages: pytz, xxhash, urllib3, tzdata, tqdm, pyyaml, pyarrow-hotfix, numpy, multidict, idna, fsspec, frozenlist, filelock, dill, charset-normalizer, certifi, attrs, yarl, requests, pyarrow, pandas, multiprocess, aiosignal, huggingface-hub, aiohttp, datasets\n",
      "Successfully installed aiohttp-3.9.3 aiosignal-1.3.1 attrs-23.2.0 certifi-2024.2.2 charset-normalizer-3.3.2 datasets-2.18.0 dill-0.3.8 filelock-3.13.3 frozenlist-1.4.1 fsspec-2024.2.0 huggingface-hub-0.22.2 idna-3.6 multidict-6.0.5 multiprocess-0.70.16 numpy-1.26.4 pandas-2.2.1 pyarrow-15.0.2 pyarrow-hotfix-0.6 pytz-2024.1 pyyaml-6.0.1 requests-2.31.0 tqdm-4.66.2 tzdata-2024.1 urllib3-2.2.1 xxhash-3.4.1 yarl-1.9.4\n"
     ]
    }
   ],
   "source": [
    "!pip install datasets"
   ]
  },
  {
   "cell_type": "code",
   "execution_count": null,
   "metadata": {},
   "outputs": [],
   "source": [
    "import pandas as pd\n",
    "import json\n",
    "import numpy as np\n",
    "from huggingface_hub import hf_hub_download"
   ]
  },
  {
   "cell_type": "code",
   "execution_count": 3,
   "metadata": {},
   "outputs": [],
   "source": [
    "SEED = 42\n",
    "np.random.seed(SEED)"
   ]
  },
  {
   "cell_type": "markdown",
   "metadata": {},
   "source": [
    "#### Cleaning and sampling dataset"
   ]
  },
  {
   "cell_type": "code",
   "execution_count": 4,
   "metadata": {},
   "outputs": [],
   "source": [
    "# downloading raw hallucination evaluation dataset\n",
    "\n",
    "REPO_ID = \"cemuluoglakci/hallucination_evaluation\"\n",
    "FILENAME = \"hallucination_evaluations.csv\"\n",
    "\n",
    "df = pd.read_csv(\n",
    "    hf_hub_download(repo_id=REPO_ID, filename=FILENAME, repo_type=\"dataset\")\n",
    ")"
   ]
  },
  {
   "cell_type": "code",
   "execution_count": 4,
   "metadata": {},
   "outputs": [
    {
     "name": "stdout",
     "output_type": "stream",
     "text": [
      "{\n",
      "\"term\": \"Nanorobotics\",\n",
      "\"reasoning\": \"The term 'Nanorobotics' is mentioned in the answer as a crucial technology for advancing nanotechnology, particularly in the field of nano-scale device synchronization and coordination. The concept of Nano-Sync Fusion Technology is closely related to nanorobotics, relying on the development and deployment of nanobots for synchronization and coordination. The answer describes how nanorobotics enables precise control and coordination of multiple nanoscale devices simultaneously, leading to enhanced performance and capabilities.\",\n",
      "\"certainty\": \"MENTIONED\"\n",
      "}\n"
     ]
    }
   ],
   "source": [
    "# Print the first instance of 'certainty reflection' in the 'reflection' column\n",
    "# Check the desired output format in the dataset\n",
    "print(df[df[\"eval_type\"] == 'certainty reflection'].reflection.iloc[0])"
   ]
  },
  {
   "cell_type": "markdown",
   "metadata": {},
   "source": [
    "* None of the existing 7B parameter size models, when trained as general language models, can generate output in JSON format.\n",
    "\n",
    "* Models with 70B parameters or more have the ability to follow detailed instructions and can generate JSON format output when explicitly prompted.\n",
    "\n",
    "* However, 70B models are ten times larger and more costly to run compared to 7B models. Therefore, fine-tuning a 7B model to emulate the capabilities of larger models for specific tasks is a more cost-effective approach."
   ]
  },
  {
   "cell_type": "code",
   "execution_count": 5,
   "metadata": {},
   "outputs": [],
   "source": [
    "# What formatting issues might make the \"reflection\" column unsuitable for direct use?\n",
    "# This function addresses one specific issue in the data. What additional preprocessing steps might be required to ensure the data is ready for label extraction?\n",
    "# Prior to cleaning the 'reflection' column, compute the proportion of data that isn't in the appropriate format for label extraction without preprocessing.\n",
    "def clean_reflection(reflection_str:str, label:str) -> tuple:\n",
    "    try:\n",
    "        # remove any characters before the first '{' and after the last '}'\n",
    "        start = reflection_str.find('{')\n",
    "        end = reflection_str.rfind('}')\n",
    "        cleaned_str = reflection_str[start:end+1]\n",
    "        data = json.loads(cleaned_str)\n",
    "        label_value = data.get(label, None)\n",
    "        return cleaned_str, label_value\n",
    "    except (AttributeError, json.JSONDecodeError):\n",
    "        return None, None"
   ]
  },
  {
   "cell_type": "code",
   "execution_count": 6,
   "metadata": {},
   "outputs": [
    {
     "name": "stdout",
     "output_type": "stream",
     "text": [
      "initial row count: 76648\n",
      "row count after cleaning: 76045\n",
      "row count after filtering: 76017\n"
     ]
    }
   ],
   "source": [
    "acceptance_df = df[(df[\"eval_type\"] == 'certainty reflection')].copy()\n",
    "print(f\"initial row count: {acceptance_df.shape[0]}\")\n",
    "\n",
    "acceptance_df['cleaned_reflection'], acceptance_df['acceptance_label'] = zip(*acceptance_df['reflection'].map(lambda x: clean_reflection(x, 'certainty')))\n",
    "acceptance_df = acceptance_df.dropna(subset=['acceptance_label'])\n",
    "print(f\"row count after cleaning: {acceptance_df.shape[0]}\")\n",
    "\n",
    "label_list = [\"MENTIONED\",\"UNKNOWN\",\"UNREAL\"]\n",
    "acceptance_df = acceptance_df[acceptance_df['acceptance_label'].isin(label_list)]\n",
    "print(f\"row count after filtering: {acceptance_df.shape[0]}\")"
   ]
  },
  {
   "cell_type": "code",
   "execution_count": 7,
   "metadata": {},
   "outputs": [
    {
     "data": {
      "text/plain": [
       "IsHypotheticalTerm  acceptance_label\n",
       "0                   MENTIONED           56836\n",
       "1                   MENTIONED           10837\n",
       "0                   UNKNOWN              3963\n",
       "                    UNREAL               2503\n",
       "1                   UNKNOWN              1048\n",
       "                    UNREAL                830\n",
       "dtype: int64"
      ]
     },
     "execution_count": 7,
     "metadata": {},
     "output_type": "execute_result"
    }
   ],
   "source": [
    "acceptance_df[['IsHypotheticalTerm','acceptance_label']].value_counts()"
   ]
  },
  {
   "cell_type": "code",
   "execution_count": 8,
   "metadata": {},
   "outputs": [],
   "source": [
    "lowest_count = acceptance_df[['IsHypotheticalTerm','acceptance_label']].value_counts().min()"
   ]
  },
  {
   "cell_type": "code",
   "execution_count": 9,
   "metadata": {},
   "outputs": [
    {
     "data": {
      "text/html": [
       "<div>\n",
       "<style scoped>\n",
       "    .dataframe tbody tr th:only-of-type {\n",
       "        vertical-align: middle;\n",
       "    }\n",
       "\n",
       "    .dataframe tbody tr th {\n",
       "        vertical-align: top;\n",
       "    }\n",
       "\n",
       "    .dataframe thead th {\n",
       "        text-align: right;\n",
       "    }\n",
       "</style>\n",
       "<table border=\"1\" class=\"dataframe\">\n",
       "  <thead>\n",
       "    <tr style=\"text-align: right;\">\n",
       "      <th></th>\n",
       "      <th>eval_id</th>\n",
       "      <th>question_id</th>\n",
       "      <th>question</th>\n",
       "      <th>isHypotheticalQuestion</th>\n",
       "      <th>answer_id</th>\n",
       "      <th>answer</th>\n",
       "      <th>term_id</th>\n",
       "      <th>term</th>\n",
       "      <th>term_explanation</th>\n",
       "      <th>IsHypotheticalTerm</th>\n",
       "      <th>...</th>\n",
       "      <th>answer_label_id</th>\n",
       "      <th>answer_label</th>\n",
       "      <th>term_source_id</th>\n",
       "      <th>term_source</th>\n",
       "      <th>answer_source_id</th>\n",
       "      <th>answer_source</th>\n",
       "      <th>evaluator_model_id</th>\n",
       "      <th>evaluator_model</th>\n",
       "      <th>cleaned_reflection</th>\n",
       "      <th>acceptance_label</th>\n",
       "    </tr>\n",
       "  </thead>\n",
       "  <tbody>\n",
       "    <tr>\n",
       "      <th>108828</th>\n",
       "      <td>61233</td>\n",
       "      <td>13</td>\n",
       "      <td>How does TCP fusion in Oracle's Solaris operat...</td>\n",
       "      <td>1</td>\n",
       "      <td>25240</td>\n",
       "      <td>\\nTCP fusion in Oracle's Solaris operating sys...</td>\n",
       "      <td>1</td>\n",
       "      <td>Nano-Sync Fusion Technology</td>\n",
       "      <td>A revolutionary advancement in technology tha...</td>\n",
       "      <td>1</td>\n",
       "      <td>...</td>\n",
       "      <td>1</td>\n",
       "      <td>hallucination</td>\n",
       "      <td>0</td>\n",
       "      <td>hypothetical</td>\n",
       "      <td>7</td>\n",
       "      <td>llama2:70b-chat-q4_K_M</td>\n",
       "      <td>7</td>\n",
       "      <td>llama2:70b-chat-q4_K_M</td>\n",
       "      <td>{\\n\"term\": \"Nano-Sync Fusion Technology\",\\n\"re...</td>\n",
       "      <td>MENTIONED</td>\n",
       "    </tr>\n",
       "    <tr>\n",
       "      <th>108867</th>\n",
       "      <td>61302</td>\n",
       "      <td>23</td>\n",
       "      <td>How does the concept of advanced manufacturing...</td>\n",
       "      <td>0</td>\n",
       "      <td>25250</td>\n",
       "      <td>Advanced manufacturing, also known as Industry...</td>\n",
       "      <td>11355</td>\n",
       "      <td>Collaborative Control Theory</td>\n",
       "      <td>Collaboration is an essential means for effect...</td>\n",
       "      <td>0</td>\n",
       "      <td>...</td>\n",
       "      <td>0</td>\n",
       "      <td>valid</td>\n",
       "      <td>3</td>\n",
       "      <td>text_similarity</td>\n",
       "      <td>7</td>\n",
       "      <td>llama2:70b-chat-q4_K_M</td>\n",
       "      <td>7</td>\n",
       "      <td>llama2:70b-chat-q4_K_M</td>\n",
       "      <td>{\\n\"term\": \"Collaborative Control Theory\",\\n\"r...</td>\n",
       "      <td>MENTIONED</td>\n",
       "    </tr>\n",
       "    <tr>\n",
       "      <th>152</th>\n",
       "      <td>56069</td>\n",
       "      <td>28</td>\n",
       "      <td>How does augmented reality differ from the Qua...</td>\n",
       "      <td>1</td>\n",
       "      <td>47450</td>\n",
       "      <td>Augmented reality (AR) and the Quantum-Pulse H...</td>\n",
       "      <td>2</td>\n",
       "      <td>Quantum-Pulse Holography Interface</td>\n",
       "      <td>A cutting-edge interface that harnesses the p...</td>\n",
       "      <td>1</td>\n",
       "      <td>...</td>\n",
       "      <td>0</td>\n",
       "      <td>valid</td>\n",
       "      <td>0</td>\n",
       "      <td>hypothetical</td>\n",
       "      <td>1</td>\n",
       "      <td>gpt-3.5-turbo</td>\n",
       "      <td>7</td>\n",
       "      <td>llama2:70b-chat-q4_K_M</td>\n",
       "      <td>{\\n\"term\": \"Quantum-Pulse Holography Interface...</td>\n",
       "      <td>UNREAL</td>\n",
       "    </tr>\n",
       "    <tr>\n",
       "      <th>189</th>\n",
       "      <td>56091</td>\n",
       "      <td>34</td>\n",
       "      <td>How does mixed reality technology compare to t...</td>\n",
       "      <td>1</td>\n",
       "      <td>47500</td>\n",
       "      <td>Mixed reality technology and the Quantum-Pulse...</td>\n",
       "      <td>2</td>\n",
       "      <td>Quantum-Pulse Holography Interface</td>\n",
       "      <td>A cutting-edge interface that harnesses the p...</td>\n",
       "      <td>1</td>\n",
       "      <td>...</td>\n",
       "      <td>1</td>\n",
       "      <td>hallucination</td>\n",
       "      <td>0</td>\n",
       "      <td>hypothetical</td>\n",
       "      <td>1</td>\n",
       "      <td>gpt-3.5-turbo</td>\n",
       "      <td>7</td>\n",
       "      <td>llama2:70b-chat-q4_K_M</td>\n",
       "      <td>{\\n\"term\": \"Quantum-Pulse Holography Interface...</td>\n",
       "      <td>UNREAL</td>\n",
       "    </tr>\n",
       "    <tr>\n",
       "      <th>203</th>\n",
       "      <td>56102</td>\n",
       "      <td>37</td>\n",
       "      <td>How does electronic quantum holography differ ...</td>\n",
       "      <td>1</td>\n",
       "      <td>47521</td>\n",
       "      <td>Electronic quantum holography and Quantum-Puls...</td>\n",
       "      <td>2</td>\n",
       "      <td>Quantum-Pulse Holography Interface</td>\n",
       "      <td>A cutting-edge interface that harnesses the p...</td>\n",
       "      <td>1</td>\n",
       "      <td>...</td>\n",
       "      <td>0</td>\n",
       "      <td>valid</td>\n",
       "      <td>0</td>\n",
       "      <td>hypothetical</td>\n",
       "      <td>1</td>\n",
       "      <td>gpt-3.5-turbo</td>\n",
       "      <td>7</td>\n",
       "      <td>llama2:70b-chat-q4_K_M</td>\n",
       "      <td>{\\n\"term\": \"Quantum-Pulse Holography Interface...</td>\n",
       "      <td>UNREAL</td>\n",
       "    </tr>\n",
       "    <tr>\n",
       "      <th>...</th>\n",
       "      <td>...</td>\n",
       "      <td>...</td>\n",
       "      <td>...</td>\n",
       "      <td>...</td>\n",
       "      <td>...</td>\n",
       "      <td>...</td>\n",
       "      <td>...</td>\n",
       "      <td>...</td>\n",
       "      <td>...</td>\n",
       "      <td>...</td>\n",
       "      <td>...</td>\n",
       "      <td>...</td>\n",
       "      <td>...</td>\n",
       "      <td>...</td>\n",
       "      <td>...</td>\n",
       "      <td>...</td>\n",
       "      <td>...</td>\n",
       "      <td>...</td>\n",
       "      <td>...</td>\n",
       "      <td>...</td>\n",
       "      <td>...</td>\n",
       "    </tr>\n",
       "    <tr>\n",
       "      <th>108133</th>\n",
       "      <td>216319</td>\n",
       "      <td>20651</td>\n",
       "      <td>How does the concept of backward design in ins...</td>\n",
       "      <td>0</td>\n",
       "      <td>47801</td>\n",
       "      <td>The concept of backward design in instructiona...</td>\n",
       "      <td>14904</td>\n",
       "      <td>Backward design</td>\n",
       "      <td>Instructional design is a technology for the d...</td>\n",
       "      <td>0</td>\n",
       "      <td>...</td>\n",
       "      <td>0</td>\n",
       "      <td>valid</td>\n",
       "      <td>3</td>\n",
       "      <td>text_similarity</td>\n",
       "      <td>1</td>\n",
       "      <td>gpt-3.5-turbo</td>\n",
       "      <td>7</td>\n",
       "      <td>llama2:70b-chat-q4_K_M</td>\n",
       "      <td>{\\n\"term\": \"Backward design\",\\n\"reasoning\": \"T...</td>\n",
       "      <td>MENTIONED</td>\n",
       "    </tr>\n",
       "    <tr>\n",
       "      <th>161601</th>\n",
       "      <td>178162</td>\n",
       "      <td>20658</td>\n",
       "      <td>What impact has Robert F. Mager had on the Van...</td>\n",
       "      <td>0</td>\n",
       "      <td>52691</td>\n",
       "      <td>The Vanguard School in Florida has not been i...</td>\n",
       "      <td>14994</td>\n",
       "      <td>Robert F. Mager</td>\n",
       "      <td>This instructional framework is designed in su...</td>\n",
       "      <td>0</td>\n",
       "      <td>...</td>\n",
       "      <td>1</td>\n",
       "      <td>hallucination</td>\n",
       "      <td>3</td>\n",
       "      <td>text_similarity</td>\n",
       "      <td>7</td>\n",
       "      <td>llama2:70b-chat-q4_K_M</td>\n",
       "      <td>7</td>\n",
       "      <td>llama2:70b-chat-q4_K_M</td>\n",
       "      <td>{\\n\"term\": \"Robert F. Mager\",\\n\"reasoning\": \"T...</td>\n",
       "      <td>UNREAL</td>\n",
       "    </tr>\n",
       "    <tr>\n",
       "      <th>108188</th>\n",
       "      <td>216448</td>\n",
       "      <td>20662</td>\n",
       "      <td>How has the implementation of data-driven curr...</td>\n",
       "      <td>1</td>\n",
       "      <td>47738</td>\n",
       "      <td>The implementation of data-driven curriculum p...</td>\n",
       "      <td>789</td>\n",
       "      <td>Data-driven curriculum personalization</td>\n",
       "      <td>Utilizing learner data and analytics to dynam...</td>\n",
       "      <td>1</td>\n",
       "      <td>...</td>\n",
       "      <td>1</td>\n",
       "      <td>hallucination</td>\n",
       "      <td>0</td>\n",
       "      <td>hypothetical</td>\n",
       "      <td>1</td>\n",
       "      <td>gpt-3.5-turbo</td>\n",
       "      <td>7</td>\n",
       "      <td>llama2:70b-chat-q4_K_M</td>\n",
       "      <td>{\\n\"term\": \"Data-driven curriculum personaliza...</td>\n",
       "      <td>MENTIONED</td>\n",
       "    </tr>\n",
       "    <tr>\n",
       "      <th>161785</th>\n",
       "      <td>178551</td>\n",
       "      <td>20692</td>\n",
       "      <td>How can online learning platforms incorporate ...</td>\n",
       "      <td>1</td>\n",
       "      <td>52657</td>\n",
       "      <td>\\nThe inclusion of emotional intelligence skil...</td>\n",
       "      <td>790</td>\n",
       "      <td>Emotional intelligence skill-building modules</td>\n",
       "      <td>Learning modules specifically designed to dev...</td>\n",
       "      <td>1</td>\n",
       "      <td>...</td>\n",
       "      <td>1</td>\n",
       "      <td>hallucination</td>\n",
       "      <td>0</td>\n",
       "      <td>hypothetical</td>\n",
       "      <td>7</td>\n",
       "      <td>llama2:70b-chat-q4_K_M</td>\n",
       "      <td>7</td>\n",
       "      <td>llama2:70b-chat-q4_K_M</td>\n",
       "      <td>{\\n\"term\": \"Emotional intelligence skill-build...</td>\n",
       "      <td>MENTIONED</td>\n",
       "    </tr>\n",
       "    <tr>\n",
       "      <th>108437</th>\n",
       "      <td>216602</td>\n",
       "      <td>20707</td>\n",
       "      <td>How does self-regulated learning contribute to...</td>\n",
       "      <td>1</td>\n",
       "      <td>47369</td>\n",
       "      <td>Self-regulated learning (SRL) refers to the ab...</td>\n",
       "      <td>790</td>\n",
       "      <td>Emotional intelligence skill-building modules</td>\n",
       "      <td>Learning modules specifically designed to dev...</td>\n",
       "      <td>1</td>\n",
       "      <td>...</td>\n",
       "      <td>1</td>\n",
       "      <td>hallucination</td>\n",
       "      <td>0</td>\n",
       "      <td>hypothetical</td>\n",
       "      <td>1</td>\n",
       "      <td>gpt-3.5-turbo</td>\n",
       "      <td>7</td>\n",
       "      <td>llama2:70b-chat-q4_K_M</td>\n",
       "      <td>{\\n\"term\": \"Emotional intelligence skill-build...</td>\n",
       "      <td>MENTIONED</td>\n",
       "    </tr>\n",
       "  </tbody>\n",
       "</table>\n",
       "<p>4980 rows × 25 columns</p>\n",
       "</div>"
      ],
      "text/plain": [
       "        eval_id  question_id  \\\n",
       "108828    61233           13   \n",
       "108867    61302           23   \n",
       "152       56069           28   \n",
       "189       56091           34   \n",
       "203       56102           37   \n",
       "...         ...          ...   \n",
       "108133   216319        20651   \n",
       "161601   178162        20658   \n",
       "108188   216448        20662   \n",
       "161785   178551        20692   \n",
       "108437   216602        20707   \n",
       "\n",
       "                                                 question  \\\n",
       "108828  How does TCP fusion in Oracle's Solaris operat...   \n",
       "108867  How does the concept of advanced manufacturing...   \n",
       "152     How does augmented reality differ from the Qua...   \n",
       "189     How does mixed reality technology compare to t...   \n",
       "203     How does electronic quantum holography differ ...   \n",
       "...                                                   ...   \n",
       "108133  How does the concept of backward design in ins...   \n",
       "161601  What impact has Robert F. Mager had on the Van...   \n",
       "108188  How has the implementation of data-driven curr...   \n",
       "161785  How can online learning platforms incorporate ...   \n",
       "108437  How does self-regulated learning contribute to...   \n",
       "\n",
       "        isHypotheticalQuestion  answer_id  \\\n",
       "108828                       1      25240   \n",
       "108867                       0      25250   \n",
       "152                          1      47450   \n",
       "189                          1      47500   \n",
       "203                          1      47521   \n",
       "...                        ...        ...   \n",
       "108133                       0      47801   \n",
       "161601                       0      52691   \n",
       "108188                       1      47738   \n",
       "161785                       1      52657   \n",
       "108437                       1      47369   \n",
       "\n",
       "                                                   answer  term_id  \\\n",
       "108828  \\nTCP fusion in Oracle's Solaris operating sys...        1   \n",
       "108867  Advanced manufacturing, also known as Industry...    11355   \n",
       "152     Augmented reality (AR) and the Quantum-Pulse H...        2   \n",
       "189     Mixed reality technology and the Quantum-Pulse...        2   \n",
       "203     Electronic quantum holography and Quantum-Puls...        2   \n",
       "...                                                   ...      ...   \n",
       "108133  The concept of backward design in instructiona...    14904   \n",
       "161601   The Vanguard School in Florida has not been i...    14994   \n",
       "108188  The implementation of data-driven curriculum p...      789   \n",
       "161785  \\nThe inclusion of emotional intelligence skil...      790   \n",
       "108437  Self-regulated learning (SRL) refers to the ab...      790   \n",
       "\n",
       "                                                  term  \\\n",
       "108828                     Nano-Sync Fusion Technology   \n",
       "108867                    Collaborative Control Theory   \n",
       "152                 Quantum-Pulse Holography Interface   \n",
       "189                 Quantum-Pulse Holography Interface   \n",
       "203                 Quantum-Pulse Holography Interface   \n",
       "...                                                ...   \n",
       "108133                                 Backward design   \n",
       "161601                                 Robert F. Mager   \n",
       "108188          Data-driven curriculum personalization   \n",
       "161785   Emotional intelligence skill-building modules   \n",
       "108437   Emotional intelligence skill-building modules   \n",
       "\n",
       "                                         term_explanation  IsHypotheticalTerm  \\\n",
       "108828   A revolutionary advancement in technology tha...                   1   \n",
       "108867  Collaboration is an essential means for effect...                   0   \n",
       "152      A cutting-edge interface that harnesses the p...                   1   \n",
       "189      A cutting-edge interface that harnesses the p...                   1   \n",
       "203      A cutting-edge interface that harnesses the p...                   1   \n",
       "...                                                   ...                 ...   \n",
       "108133  Instructional design is a technology for the d...                   0   \n",
       "161601  This instructional framework is designed in su...                   0   \n",
       "108188   Utilizing learner data and analytics to dynam...                   1   \n",
       "161785   Learning modules specifically designed to dev...                   1   \n",
       "108437   Learning modules specifically designed to dev...                   1   \n",
       "\n",
       "        ...  answer_label_id   answer_label term_source_id      term_source  \\\n",
       "108828  ...                1  hallucination              0     hypothetical   \n",
       "108867  ...                0          valid              3  text_similarity   \n",
       "152     ...                0          valid              0     hypothetical   \n",
       "189     ...                1  hallucination              0     hypothetical   \n",
       "203     ...                0          valid              0     hypothetical   \n",
       "...     ...              ...            ...            ...              ...   \n",
       "108133  ...                0          valid              3  text_similarity   \n",
       "161601  ...                1  hallucination              3  text_similarity   \n",
       "108188  ...                1  hallucination              0     hypothetical   \n",
       "161785  ...                1  hallucination              0     hypothetical   \n",
       "108437  ...                1  hallucination              0     hypothetical   \n",
       "\n",
       "       answer_source_id           answer_source evaluator_model_id  \\\n",
       "108828                7  llama2:70b-chat-q4_K_M                  7   \n",
       "108867                7  llama2:70b-chat-q4_K_M                  7   \n",
       "152                   1           gpt-3.5-turbo                  7   \n",
       "189                   1           gpt-3.5-turbo                  7   \n",
       "203                   1           gpt-3.5-turbo                  7   \n",
       "...                 ...                     ...                ...   \n",
       "108133                1           gpt-3.5-turbo                  7   \n",
       "161601                7  llama2:70b-chat-q4_K_M                  7   \n",
       "108188                1           gpt-3.5-turbo                  7   \n",
       "161785                7  llama2:70b-chat-q4_K_M                  7   \n",
       "108437                1           gpt-3.5-turbo                  7   \n",
       "\n",
       "               evaluator_model  \\\n",
       "108828  llama2:70b-chat-q4_K_M   \n",
       "108867  llama2:70b-chat-q4_K_M   \n",
       "152     llama2:70b-chat-q4_K_M   \n",
       "189     llama2:70b-chat-q4_K_M   \n",
       "203     llama2:70b-chat-q4_K_M   \n",
       "...                        ...   \n",
       "108133  llama2:70b-chat-q4_K_M   \n",
       "161601  llama2:70b-chat-q4_K_M   \n",
       "108188  llama2:70b-chat-q4_K_M   \n",
       "161785  llama2:70b-chat-q4_K_M   \n",
       "108437  llama2:70b-chat-q4_K_M   \n",
       "\n",
       "                                       cleaned_reflection  acceptance_label  \n",
       "108828  {\\n\"term\": \"Nano-Sync Fusion Technology\",\\n\"re...         MENTIONED  \n",
       "108867  {\\n\"term\": \"Collaborative Control Theory\",\\n\"r...         MENTIONED  \n",
       "152     {\\n\"term\": \"Quantum-Pulse Holography Interface...            UNREAL  \n",
       "189     {\\n\"term\": \"Quantum-Pulse Holography Interface...            UNREAL  \n",
       "203     {\\n\"term\": \"Quantum-Pulse Holography Interface...            UNREAL  \n",
       "...                                                   ...               ...  \n",
       "108133  {\\n\"term\": \"Backward design\",\\n\"reasoning\": \"T...         MENTIONED  \n",
       "161601  {\\n\"term\": \"Robert F. Mager\",\\n\"reasoning\": \"T...            UNREAL  \n",
       "108188  {\\n\"term\": \"Data-driven curriculum personaliza...         MENTIONED  \n",
       "161785  {\\n\"term\": \"Emotional intelligence skill-build...         MENTIONED  \n",
       "108437  {\\n\"term\": \"Emotional intelligence skill-build...         MENTIONED  \n",
       "\n",
       "[4980 rows x 25 columns]"
      ]
     },
     "execution_count": 9,
     "metadata": {},
     "output_type": "execute_result"
    }
   ],
   "source": [
    "stratified_sample = acceptance_df.groupby(['IsHypotheticalTerm','acceptance_label'], group_keys=False).apply(lambda x: x.sample(min(len(x), lowest_count))).sort_values('question_id', inplace=False)\n",
    "stratified_sample"
   ]
  },
  {
   "cell_type": "markdown",
   "metadata": {},
   "source": [
    "#### Transform to instruction fine-tuning dataset"
   ]
  },
  {
   "cell_type": "code",
   "execution_count": 11,
   "metadata": {},
   "outputs": [],
   "source": [
    "import prompts.templates as templates\n",
    "import csv\n",
    "from datasets import Dataset, DatasetDict\n",
    "from sklearn.model_selection import train_test_split\n",
    "from huggingface_hub import login"
   ]
  },
  {
   "cell_type": "code",
   "execution_count": 12,
   "metadata": {},
   "outputs": [],
   "source": [
    "system_prompt = templates.certainty_reflection_system\n",
    "\n",
    "# Open the file in write mode with 'utf-8' encoding\n",
    "with open('instruction.csv', 'w', newline='', encoding='utf-8') as file:\n",
    "    writer = csv.writer(file)\n",
    "    # Write the header\n",
    "    writer.writerow([\"text\", \"acceptance_label\", \"isHypotheticalQuestion\", \"IsHypotheticalTerm\"])  \n",
    "\n",
    "    for i, row in stratified_sample.iterrows():\n",
    "        user_prompt = templates.certainty_reflection_user.format(term = f\"{row['term']}:{row['term_explanation']}\",  question = row['question'], answer = row['answer'])\n",
    "        response = row['reflection']\n",
    "\n",
    "        text = templates.llama_training_template.format(system_message = system_prompt, prompt = user_prompt, response = response)\n",
    "\n",
    "        # Write the row with the additional columns\n",
    "        writer.writerow([text, row['acceptance_label'], row['isHypotheticalQuestion'], row['IsHypotheticalTerm']])"
   ]
  },
  {
   "cell_type": "code",
   "execution_count": 13,
   "metadata": {},
   "outputs": [
    {
     "name": "stdout",
     "output_type": "stream",
     "text": [
      "(4980, 4)\n"
     ]
    }
   ],
   "source": [
    "instruct_df = pd.read_csv('instruction.csv')\n",
    "print(instruct_df.shape)"
   ]
  },
  {
   "cell_type": "code",
   "execution_count": 25,
   "metadata": {},
   "outputs": [
    {
     "name": "stdout",
     "output_type": "stream",
     "text": [
      "[INST]<<SYS>>\n",
      "You are a linguistic expert.\n",
      "You will be given a TERM and QUESTION - ANSWER couple.\n",
      "The QUESTION is composed with the TERM.\n",
      "If the answer claims that the term is unreal, hypothetical, speculative or do not exist, label the certainty of the term as \"UNREAL\".\n",
      "If the answer mentioned the term in any context even without any further information, definition, description or explanation, label the certainty of the term as \"MENTIONED\".\n",
      "If the answer states that it does not have information about the term , label the certainty of the term as \"UNKNOWN\". \n",
      "Analyse the certainty of the term only by itself. Do not consider its relation with other terms or the context of the answer.\n",
      "First reason step by step then label certainty of the term as \"UNREAL\", \"MENTIONED\" or \"UNKNOWN\"  in the following json format.\n",
      "{\"term\":\"\",\n",
      "\"reasoning\":\"\",\n",
      "\"certainty\":\"\"}\n",
      "<</SYS>>\n",
      "TERM => Nano-Sync Fusion Technology: A revolutionary advancement in technology that enables seamless synchronization and fusion of nano-scale devices, allowing for ultra-precise control and coordination in various applications.\n",
      "\n",
      "QUESTION => How does TCP fusion in Oracle's Solaris operating systems enhance the efficiency of data exchange between client and server connections on a local loopback interface, and how does this compare to the potential capabilities of Nano-Sync Fusion Technology in terms of ultra-precise control and coordination of nano-scale devices?\n",
      "ANSWER => \n",
      "TCP fusion in Oracle's Solaris operating systems is a technique that enhances the efficiency of data exchange between client and server connections on a local loopback interface by eliminating the overhead of TCP's synchronization mechanisms. This is achieved by fusing the TCP and IP layers, allowing the system to bypass the traditional TCP handshake and send data directly from the user space to the network interface card (NIC).\n",
      "\n",
      "The main advantage of TCP fusion is that it reduces the latency and overhead associated with the traditional TCP/IP stack, resulting in faster and more efficient data transfer. This is particularly useful for applications that require low-latency communication, such as real-time analytics, video streaming, and virtualization.\n",
      "\n",
      "In comparison, Nano-Sync Fusion Technology is a novel approach to ultra-precise control and coordination of nano-scale devices. It utilizes a fusion of nanotechnology, artificial intelligence, and quantum computing to achieve unprecedented levels of precision and synchronization in the manipulation of matter at the nanoscale.\n",
      "\n",
      "While TCP fusion in Solaris operating systems enhances the efficiency of data exchange between client and server connections, Nano-Sync Fusion Technology has the potential to revolutionize various fields such as medicine, materials science, and quantum computing by enabling the precise control and coordination of individual atoms and molecules.\n",
      "\n",
      "In terms of ultra-precise control and coordination of nano-scale devices, Nano-Sync Fusion Technology far surpasses the capabilities of TCP fusion in Solaris operating systems. While TCP fusion can reduce latency and overhead in data transfer, Nano-Sync Fusion Technology can precisely manipulate and coordinate the behavior of individual atoms and molecules, opening up new possibilities for scientific research and technological advancements.\n",
      "\n",
      "In summary, while both TCP fusion in Solaris operating systems and Nano-Sync Fusion Technology are innovative approaches to enhancing efficiency and precision, they operate on vastly different scales and have different areas of application. TCP fusion is focused on optimizing data transfer between client and server connections, whereas Nano-Sync Fusion Technology has the potential to revolutionize various fields by enabling ultra-precise control and coordination of matter at the nanoscale.\n",
      "\n",
      "INSTRUCTION => Output should be in the following json format:\n",
      "{\"term\":\"Nano-Sync Fusion Technology: A revolutionary advancement in technology that enables seamless synchronization and fusion of nano-scale devices, allowing for ultra-precise control and coordination in various applications.\",\n",
      "\"reasoning\":\"\",\n",
      "\"certainty\":\"\"}\n",
      "[/INST]{\n",
      "\"term\": \"Nano-Sync Fusion Technology\",\n",
      "\"reasoning\": \"The term is mentioned in the answer as a novel approach to ultra-precise control and coordination of nano-scale devices. It utilizes a fusion of nanotechnology, artificial intelligence, and quantum computing to achieve unprecedented levels of precision and synchronization in the manipulation of matter at the nanoscale.\",\n",
      "\"certainty\": \"MENTIONED\"\n",
      "}</s>\n"
     ]
    }
   ],
   "source": [
    "# Check format of final training text and \"llama_training_template\" in templates.py file.\n",
    "# What are the special tokens used and how they condition the LLM?\n",
    "print(instruct_df.iloc[0].text)"
   ]
  },
  {
   "cell_type": "code",
   "execution_count": 14,
   "metadata": {},
   "outputs": [],
   "source": [
    "# Create a stratified split based on 'IsHypotheticalTerm' and 'acceptance_label'\n",
    "train_val, test = train_test_split(instruct_df, test_size=0.2, stratify=instruct_df[['IsHypotheticalTerm', 'acceptance_label']], random_state=SEED)\n",
    "train, val = train_test_split(train_val, test_size=0.25, stratify=train_val[['IsHypotheticalTerm', 'acceptance_label']], random_state=SEED)\n",
    "\n",
    "# Convert the splits back into HuggingFace Datasets\n",
    "train_dataset = Dataset.from_pandas(train)\n",
    "val_dataset = Dataset.from_pandas(val)\n",
    "test_dataset = Dataset.from_pandas(test)\n",
    "\n",
    "# Combine the datasets into a single DatasetDict\n",
    "dataset_dict = DatasetDict({\n",
    "    'train': train_dataset,\n",
    "    'validation': val_dataset,\n",
    "    'test': test_dataset\n",
    "})"
   ]
  },
  {
   "cell_type": "code",
   "execution_count": 15,
   "metadata": {},
   "outputs": [
    {
     "data": {
      "application/vnd.jupyter.widget-view+json": {
       "model_id": "a4d9ee2059754bcb8c62265ad6182214",
       "version_major": 2,
       "version_minor": 0
      },
      "text/plain": [
       "Saving the dataset (0/1 shards):   0%|          | 0/2988 [00:00<?, ? examples/s]"
      ]
     },
     "metadata": {},
     "output_type": "display_data"
    },
    {
     "data": {
      "application/vnd.jupyter.widget-view+json": {
       "model_id": "c26a61dd394644c488bda03d2c509d9c",
       "version_major": 2,
       "version_minor": 0
      },
      "text/plain": [
       "Saving the dataset (0/1 shards):   0%|          | 0/996 [00:00<?, ? examples/s]"
      ]
     },
     "metadata": {},
     "output_type": "display_data"
    },
    {
     "data": {
      "application/vnd.jupyter.widget-view+json": {
       "model_id": "1af21e5d6f4240e3a9491bfa05f456e4",
       "version_major": 2,
       "version_minor": 0
      },
      "text/plain": [
       "Saving the dataset (0/1 shards):   0%|          | 0/996 [00:00<?, ? examples/s]"
      ]
     },
     "metadata": {},
     "output_type": "display_data"
    }
   ],
   "source": [
    "# Save the DatasetDict to disk\n",
    "dataset_dict.save_to_disk('./my_dataset')"
   ]
  },
  {
   "cell_type": "code",
   "execution_count": 16,
   "metadata": {},
   "outputs": [
    {
     "data": {
      "application/vnd.jupyter.widget-view+json": {
       "model_id": "f48ad990ec46418f9e40d897480ae53e",
       "version_major": 2,
       "version_minor": 0
      },
      "text/plain": [
       "VBox(children=(HTML(value='<center> <img\\nsrc=https://huggingface.co/front/assets/huggingface_logo-noborder.sv…"
      ]
     },
     "metadata": {},
     "output_type": "display_data"
    }
   ],
   "source": [
    "login()"
   ]
  },
  {
   "cell_type": "code",
   "execution_count": 17,
   "metadata": {},
   "outputs": [
    {
     "data": {
      "application/vnd.jupyter.widget-view+json": {
       "model_id": "4516f1ad777c473ebcbcde4fb9773e10",
       "version_major": 2,
       "version_minor": 0
      },
      "text/plain": [
       "Uploading the dataset shards:   0%|          | 0/1 [00:00<?, ?it/s]"
      ]
     },
     "metadata": {},
     "output_type": "display_data"
    },
    {
     "data": {
      "application/vnd.jupyter.widget-view+json": {
       "model_id": "0f94fa2c5b334e1bb51172277334c261",
       "version_major": 2,
       "version_minor": 0
      },
      "text/plain": [
       "Creating parquet from Arrow format:   0%|          | 0/3 [00:00<?, ?ba/s]"
      ]
     },
     "metadata": {},
     "output_type": "display_data"
    },
    {
     "data": {
      "application/vnd.jupyter.widget-view+json": {
       "model_id": "097d93a7b31046579450b0aa61f3caba",
       "version_major": 2,
       "version_minor": 0
      },
      "text/plain": [
       "Uploading the dataset shards:   0%|          | 0/1 [00:00<?, ?it/s]"
      ]
     },
     "metadata": {},
     "output_type": "display_data"
    },
    {
     "data": {
      "application/vnd.jupyter.widget-view+json": {
       "model_id": "910762c8a23a4c0e8996329e7b7824ac",
       "version_major": 2,
       "version_minor": 0
      },
      "text/plain": [
       "Creating parquet from Arrow format:   0%|          | 0/1 [00:00<?, ?ba/s]"
      ]
     },
     "metadata": {},
     "output_type": "display_data"
    },
    {
     "data": {
      "application/vnd.jupyter.widget-view+json": {
       "model_id": "14338f7d56ae4cd6b3244f242408e64b",
       "version_major": 2,
       "version_minor": 0
      },
      "text/plain": [
       "Uploading the dataset shards:   0%|          | 0/1 [00:00<?, ?it/s]"
      ]
     },
     "metadata": {},
     "output_type": "display_data"
    },
    {
     "data": {
      "application/vnd.jupyter.widget-view+json": {
       "model_id": "b6465d76e8534c119d3375e57511fc27",
       "version_major": 2,
       "version_minor": 0
      },
      "text/plain": [
       "Creating parquet from Arrow format:   0%|          | 0/1 [00:00<?, ?ba/s]"
      ]
     },
     "metadata": {},
     "output_type": "display_data"
    },
    {
     "data": {
      "application/vnd.jupyter.widget-view+json": {
       "model_id": "5c7bf327d480408f8c1ecd8c39cb4964",
       "version_major": 2,
       "version_minor": 0
      },
      "text/plain": [
       "README.md:   0%|          | 0.00/673 [00:00<?, ?B/s]"
      ]
     },
     "metadata": {},
     "output_type": "display_data"
    },
    {
     "data": {
      "text/plain": [
       "CommitInfo(commit_url='https://huggingface.co/datasets/cemuluoglakci/hallucination_acceptance_agent_instruction_dataset/commit/a4a5f934b287a9973eb0a364da179215e017c98a', commit_message='Upload dataset', commit_description='', oid='a4a5f934b287a9973eb0a364da179215e017c98a', pr_url=None, pr_revision=None, pr_num=None)"
      ]
     },
     "execution_count": 17,
     "metadata": {},
     "output_type": "execute_result"
    }
   ],
   "source": [
    "# Push the dataset to the hub\n",
    "dataset_dict.push_to_hub(\"hallucination_acceptance_agent_instruction_dataset\")"
   ]
  }
 ],
 "metadata": {
  "kernelspec": {
   "display_name": "Python 3",
   "language": "python",
   "name": "python3"
  },
  "language_info": {
   "codemirror_mode": {
    "name": "ipython",
    "version": 3
   },
   "file_extension": ".py",
   "mimetype": "text/x-python",
   "name": "python",
   "nbconvert_exporter": "python",
   "pygments_lexer": "ipython3",
   "version": "3.11.0"
  }
 },
 "nbformat": 4,
 "nbformat_minor": 2
}
